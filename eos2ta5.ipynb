{
  "cells": [
    {
      "cell_type": "code",
      "execution_count": 1,
      "metadata": {
        "id": "lG_FBIrw2U6q"
      },
      "outputs": [],
      "source": [
        "# installing Ersilia\n",
        "\n",
        "%%capture\n",
        "%env MINICONDA_INSTALLER_SCRIPT=Miniconda3-py37_4.12.0-Linux-x86_64.sh\n",
        "%env MINICONDA_PREFIX=/usr/local\n",
        "%env PYTHONPATH= \"$PYTHONPATH:/usr/local/lib/python3.7/site-packages\"\n",
        "%env PIP_ROOT_USER_ACTION=ignore\n",
        "\n",
        "!wget https://repo.anaconda.com/miniconda/$MINICONDA_INSTALLER_SCRIPT\n",
        "!chmod +x $MINICONDA_INSTALLER_SCRIPT\n",
        "!./$MINICONDA_INSTALLER_SCRIPT -b -f -p $MINICONDA_PREFIX\n",
        "\n",
        "!python -m pip install git+https://github.com/ersilia-os/ersilia.git\n",
        "!python -m pip install requests --upgrade\n",
        "import sys\n",
        "\n",
        "_ = sys.path.append(\"/usr/local/lib/python3.7/site-packages\")"
      ]
    },
    {
      "cell_type": "code",
      "execution_count": 2,
      "metadata": {
        "colab": {
          "base_uri": "https://localhost:8080/"
        },
        "id": "roWqJtHKjI6D",
        "outputId": "4f87a3ea-2bff-4e5c-fef0-d44324a95105"
      },
      "outputs": [
        {
          "output_type": "stream",
          "name": "stdout",
          "text": [
            "Mounted at /content/drive\n"
          ]
        }
      ],
      "source": [
        "# Mount google drive\n",
        "from google.colab import drive\n",
        "\n",
        "drive.mount(\"/content/drive\")"
      ]
    },
    {
      "cell_type": "code",
      "execution_count": 3,
      "metadata": {
        "id": "t8stvoj-5SV9"
      },
      "outputs": [],
      "source": [
        "input_folder = \"/content/drive/MyDrive/Ersilia\""
      ]
    },
    {
      "cell_type": "code",
      "execution_count": 4,
      "metadata": {
        "id": "Ieort6FNZsyC"
      },
      "outputs": [],
      "source": [
        "output_folder = \"/content/drive/MyDrive/Ersilia\""
      ]
    },
    {
      "cell_type": "code",
      "execution_count": 5,
      "metadata": {
        "id": "NZPZUacoZvit"
      },
      "outputs": [],
      "source": [
        "input_filename = \"compounds\""
      ]
    },
    {
      "cell_type": "code",
      "execution_count": 6,
      "metadata": {
        "id": "a77yuNemhIi9"
      },
      "outputs": [],
      "source": [
        "smiles_column = \"smiles\""
      ]
    },
    {
      "cell_type": "code",
      "execution_count": 7,
      "metadata": {
        "colab": {
          "base_uri": "https://localhost:8080/"
        },
        "id": "ScrOW8sahW0C",
        "outputId": "b6430162-8640-40a4-9b60-ef45da727303"
      },
      "outputs": [
        {
          "output_type": "stream",
          "name": "stdout",
          "text": [
            "My dataset contains 1000 SMILES\n"
          ]
        }
      ],
      "source": [
        "import pandas as pd\n",
        "\n",
        "path = \"%s/%s.csv\" % (input_folder, input_filename)\n",
        "smi_col = \"%s\" % smiles_column\n",
        "df = pd.read_csv(path)\n",
        "smiles = df[smi_col].tolist()\n",
        "\n",
        "print(\"My dataset contains\" + \" \" + str(len(smiles)) + \" \" + \"SMILES\")\n"
      ]
    },
    {
      "cell_type": "code",
      "execution_count": 14,
      "metadata": {
        "id": "S7WONvcwiv7J"
      },
      "outputs": [],
      "source": [
        "model_name = \"eos2ta5\""
      ]
    },
    {
      "cell_type": "code",
      "execution_count": 15,
      "metadata": {
        "colab": {
          "base_uri": "https://localhost:8080/"
        },
        "id": "u8MzrdZ1jQV8",
        "outputId": "6b63cfbd-4487-46db-ee85-3ed40a14b557"
      },
      "outputs": [
        {
          "output_type": "stream",
          "name": "stdout",
          "text": [
            "\u001b[34m⬇️  Fetching model eos30gr: deepherg\u001b[0m\n",
            "sudo: unknown user udockerusername\r\n",
            "sudo: error initializing audit plugin sudoers_audit\r\n",
            "\n",
            "Aborted!\n",
            "Time taken: 92.48 seconds\n"
          ]
        }
      ],
      "source": [
        "import time\n",
        "\n",
        "begin = time.time()\n",
        "!ersilia fetch $model_name\n",
        "end = time.time()\n",
        "\n",
        "print(\"Time taken:\", round((end - begin), 2), \"seconds\")"
      ]
    },
    {
      "cell_type": "code",
      "execution_count": 10,
      "metadata": {
        "colab": {
          "base_uri": "https://localhost:8080/"
        },
        "id": "ctrjnKsRjWe7",
        "outputId": "73f6013f-e8b6-4053-b866-32f97769773b"
      },
      "outputs": [
        {
          "output_type": "stream",
          "name": "stdout",
          "text": [
            "sudo: unknown user udockerusername\r\n",
            "sudo: error initializing audit plugin sudoers_audit\r\n",
            "sudo: unknown user udockerusername\r\n",
            "sudo: error initializing audit plugin sudoers_audit\r\n",
            "\u001b[32m🚀 Serving model eos2ta5: cardiotoxnet-herg\u001b[0m\n",
            "\u001b[0m\n",
            "\u001b[33m   URL: http://127.0.0.1:46183\u001b[0m\n",
            "\u001b[33m   PID: 9781\u001b[0m\n",
            "\u001b[33m   SRV: conda\u001b[0m\n",
            "\u001b[0m\n",
            "\u001b[34m👉 To run model:\u001b[0m\n",
            "\u001b[34m   - run\u001b[0m\n",
            "\u001b[0m\n",
            "\u001b[34m💁 Information:\u001b[0m\n",
            "\u001b[34m   - info\u001b[0m\n"
          ]
        }
      ],
      "source": [
        "!ersilia serve $model_name"
      ]
    },
    {
      "cell_type": "code",
      "execution_count": 13,
      "metadata": {
        "colab": {
          "base_uri": "https://localhost:8080/"
        },
        "id": "XxMgsSDmko35",
        "outputId": "779480f4-4fea-4e25-9f46-b592fb799b21"
      },
      "outputs": [
        {
          "output_type": "stream",
          "name": "stdout",
          "text": [
            "Successful 👍! Time taken: 3265.94 seconds\n"
          ]
        }
      ],
      "source": [
        "api = \"calculate\"\n",
        "\n",
        "from ersilia import ErsiliaModel\n",
        "import time\n",
        "\n",
        "model = ErsiliaModel(model_name)\n",
        "begin = time.time()\n",
        "output = model.api(input=smiles, output=\"pandas\")\n",
        "end = time.time()\n",
        "\n",
        "print(\"Successful 👍! Time taken:\", round((end - begin), 2), \"seconds\")\n",
        "model.close()"
      ]
    },
    {
      "cell_type": "code",
      "execution_count": 16,
      "metadata": {
        "id": "BewlgrNMyqB8",
        "colab": {
          "base_uri": "https://localhost:8080/"
        },
        "outputId": "cf4d3315-7be8-49a6-c040-5d972aa0994f"
      },
      "outputs": [
        {
          "output_type": "stream",
          "name": "stdout",
          "text": [
            "                           key  \\\n",
            "0  SUTWUYBMBWPLMW-MDWZMJQESA-N   \n",
            "1  RIYHJWOTNJXDLV-UHFFFAOYSA-N   \n",
            "2  OGNBARHGQVMGGX-UHFFFAOYSA-N   \n",
            "3  WQEXDIRUOYNDCM-UHFFFAOYSA-N   \n",
            "4  YEGVLLQDOGYWDQ-OAHLLOKOSA-N   \n",
            "\n",
            "                                               input  probability  \n",
            "0                       CCCCNC(=S)N/N=C/C1=C(C)C=CS1     0.914271  \n",
            "1         CN1C(SCC2=NC(C3=CC=CS3)=NO2)=NN=C1C1CCCCC1     0.841120  \n",
            "2           O=C(O)CC(NC(=O)C1=CN=CC=N1)C1=CC=CC=C1Cl     0.042059  \n",
            "3  O=S(=O)(C1=CC=CC=C1)N1CCN(C2=NOC3=CC=CC(Cl)=C2...     0.181074  \n",
            "4  CCC[C@@H](C)N(C1=CC(Cl)=CC=C1CO)S(=O)(=O)C1=CC...     0.841076  \n"
          ]
        }
      ],
      "source": [
        "print(output.head())\n"
      ]
    },
    {
      "cell_type": "code",
      "execution_count": 17,
      "metadata": {
        "id": "IdNc822I10oT"
      },
      "outputs": [],
      "source": [
        "output_path = \"%s/%s_output.csv\" % (output_folder, model_name)\n",
        "output.to_csv(output_path, index=False)"
      ]
    },
    {
      "cell_type": "code",
      "source": [],
      "metadata": {
        "id": "c_4bkNWGhnWf"
      },
      "execution_count": null,
      "outputs": []
    }
  ],
  "metadata": {
    "colab": {
      "provenance": []
    },
    "kernelspec": {
      "display_name": "Python 3",
      "name": "python3"
    },
    "language_info": {
      "name": "python"
    }
  },
  "nbformat": 4,
  "nbformat_minor": 0
}